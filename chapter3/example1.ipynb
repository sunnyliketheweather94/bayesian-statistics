{
 "cells": [
  {
   "cell_type": "markdown",
   "id": "4e6f3b60",
   "metadata": {},
   "source": [
    "# Speed of Light"
   ]
  },
  {
   "cell_type": "code",
   "execution_count": 1,
   "id": "338f5810",
   "metadata": {},
   "outputs": [],
   "source": [
    "import polars as pl\n",
    "from loguru import logger\n",
    "import pymc as pm\n",
    "import arviz as az\n",
    "import matplotlib.pyplot as plt\n",
    "import numpy as np"
   ]
  },
  {
   "cell_type": "code",
   "execution_count": 2,
   "id": "23352c7b",
   "metadata": {},
   "outputs": [
    {
     "data": {
      "text/html": [
       "<div><style>\n",
       ".dataframe > thead > tr,\n",
       ".dataframe > tbody > tr {\n",
       "  text-align: right;\n",
       "  white-space: pre-wrap;\n",
       "}\n",
       "</style>\n",
       "<small>shape: (5, 1)</small><table border=\"1\" class=\"dataframe\"><thead><tr><th>speed</th></tr><tr><td>i64</td></tr></thead><tbody><tr><td>28</td></tr><tr><td>26</td></tr><tr><td>33</td></tr><tr><td>24</td></tr><tr><td>34</td></tr></tbody></table></div>"
      ],
      "text/plain": [
       "shape: (5, 1)\n",
       "┌───────┐\n",
       "│ speed │\n",
       "│ ---   │\n",
       "│ i64   │\n",
       "╞═══════╡\n",
       "│ 28    │\n",
       "│ 26    │\n",
       "│ 33    │\n",
       "│ 24    │\n",
       "│ 34    │\n",
       "└───────┘"
      ]
     },
     "execution_count": 2,
     "metadata": {},
     "output_type": "execute_result"
    }
   ],
   "source": [
    "try:\n",
    "    data = pl.read_csv(\"example1.csv\")\n",
    "except Exception as e:\n",
    "    logger.error(e)\n",
    "    data = pl.DataFrame(\n",
    "        {\n",
    "            \"speed\": [\n",
    "                28,\n",
    "                26,\n",
    "                33,\n",
    "                24,\n",
    "                34,\n",
    "                -44,\n",
    "                27,\n",
    "                16,\n",
    "                40,\n",
    "                -2,\n",
    "                29,\n",
    "                22,\n",
    "                24,\n",
    "                21,\n",
    "                25,\n",
    "                30,\n",
    "                23,\n",
    "                29,\n",
    "                31,\n",
    "                19,\n",
    "                24,\n",
    "                20,\n",
    "                36,\n",
    "                32,\n",
    "                36,\n",
    "                28,\n",
    "                25,\n",
    "                21,\n",
    "                28,\n",
    "                29,\n",
    "                37,\n",
    "                25,\n",
    "                28,\n",
    "                26,\n",
    "                30,\n",
    "                32,\n",
    "                36,\n",
    "                26,\n",
    "                30,\n",
    "                22,\n",
    "                36,\n",
    "                23,\n",
    "                27,\n",
    "                27,\n",
    "                28,\n",
    "                27,\n",
    "                31,\n",
    "                27,\n",
    "                26,\n",
    "                33,\n",
    "                26,\n",
    "                32,\n",
    "                32,\n",
    "                24,\n",
    "                39,\n",
    "                28,\n",
    "                24,\n",
    "                25,\n",
    "                32,\n",
    "                25,\n",
    "                29,\n",
    "                27,\n",
    "                28,\n",
    "                29,\n",
    "                16,\n",
    "                23,\n",
    "            ]\n",
    "        }\n",
    "    )\n",
    "    data.write_csv(\"example1.csv\")\n",
    "\n",
    "data.head()"
   ]
  },
  {
   "cell_type": "code",
   "execution_count": 3,
   "id": "91b70b01",
   "metadata": {},
   "outputs": [
    {
     "name": "stderr",
     "output_type": "stream",
     "text": [
      "Initializing NUTS using jitter+adapt_diag...\n",
      "Multiprocess sampling (4 chains in 4 jobs)\n",
      "NUTS: [mu, sigma]\n"
     ]
    },
    {
     "data": {
      "application/vnd.jupyter.widget-view+json": {
       "model_id": "8fc6380f7cb94eeb9a149047becd7d31",
       "version_major": 2,
       "version_minor": 0
      },
      "text/plain": [
       "Output()"
      ]
     },
     "metadata": {},
     "output_type": "display_data"
    },
    {
     "data": {
      "text/html": [
       "<pre style=\"white-space:pre;overflow-x:auto;line-height:normal;font-family:Menlo,'DejaVu Sans Mono',consolas,'Courier New',monospace\"></pre>\n"
      ],
      "text/plain": []
     },
     "metadata": {},
     "output_type": "display_data"
    },
    {
     "name": "stderr",
     "output_type": "stream",
     "text": [
      "Sampling 4 chains for 1_000 tune and 2_000 draw iterations (4_000 + 8_000 draws total) took 1 seconds.\n",
      "Sampling: [speed]\n"
     ]
    },
    {
     "data": {
      "application/vnd.jupyter.widget-view+json": {
       "model_id": "22a54d71937e4a4fa7d7d05d34a11e0d",
       "version_major": 2,
       "version_minor": 0
      },
      "text/plain": [
       "Output()"
      ]
     },
     "metadata": {},
     "output_type": "display_data"
    },
    {
     "data": {
      "text/html": [
       "<pre style=\"white-space:pre;overflow-x:auto;line-height:normal;font-family:Menlo,'DejaVu Sans Mono',consolas,'Courier New',monospace\"></pre>\n"
      ],
      "text/plain": []
     },
     "metadata": {},
     "output_type": "display_data"
    }
   ],
   "source": [
    "with pm.Model() as m:\n",
    "    mu = pm.Normal(\"mu\", mu=0.0, sigma=5.0)\n",
    "    sigma = pm.HalfNormal(\"sigma\", sigma=3.0)\n",
    "    speed = pm.Normal(\"speed\", mu=mu, sigma=sigma, observed=data[\"speed\"].to_list())\n",
    "\n",
    "    trace = pm.sample(2000, tune=1000)\n",
    "    posterior = pm.sample_posterior_predictive(trace=trace)"
   ]
  },
  {
   "cell_type": "code",
   "execution_count": 4,
   "id": "547569eb",
   "metadata": {},
   "outputs": [
    {
     "data": {
      "text/html": [
       "<div>\n",
       "<style scoped>\n",
       "    .dataframe tbody tr th:only-of-type {\n",
       "        vertical-align: middle;\n",
       "    }\n",
       "\n",
       "    .dataframe tbody tr th {\n",
       "        vertical-align: top;\n",
       "    }\n",
       "\n",
       "    .dataframe thead th {\n",
       "        text-align: right;\n",
       "    }\n",
       "</style>\n",
       "<table border=\"1\" class=\"dataframe\">\n",
       "  <thead>\n",
       "    <tr style=\"text-align: right;\">\n",
       "      <th></th>\n",
       "      <th>mean</th>\n",
       "      <th>sd</th>\n",
       "      <th>hdi_3%</th>\n",
       "      <th>hdi_97%</th>\n",
       "      <th>mcse_mean</th>\n",
       "      <th>mcse_sd</th>\n",
       "      <th>ess_bulk</th>\n",
       "      <th>ess_tail</th>\n",
       "      <th>r_hat</th>\n",
       "    </tr>\n",
       "  </thead>\n",
       "  <tbody>\n",
       "    <tr>\n",
       "      <th>mu</th>\n",
       "      <td>24.676</td>\n",
       "      <td>1.225</td>\n",
       "      <td>22.439</td>\n",
       "      <td>27.005</td>\n",
       "      <td>0.014</td>\n",
       "      <td>0.015</td>\n",
       "      <td>7869.0</td>\n",
       "      <td>5660.0</td>\n",
       "      <td>1.0</td>\n",
       "    </tr>\n",
       "    <tr>\n",
       "      <th>sigma</th>\n",
       "      <td>10.145</td>\n",
       "      <td>0.783</td>\n",
       "      <td>8.658</td>\n",
       "      <td>11.586</td>\n",
       "      <td>0.009</td>\n",
       "      <td>0.009</td>\n",
       "      <td>8011.0</td>\n",
       "      <td>6179.0</td>\n",
       "      <td>1.0</td>\n",
       "    </tr>\n",
       "  </tbody>\n",
       "</table>\n",
       "</div>"
      ],
      "text/plain": [
       "         mean     sd  hdi_3%  hdi_97%  mcse_mean  mcse_sd  ess_bulk  ess_tail  \\\n",
       "mu     24.676  1.225  22.439   27.005      0.014    0.015    7869.0    5660.0   \n",
       "sigma  10.145  0.783   8.658   11.586      0.009    0.009    8011.0    6179.0   \n",
       "\n",
       "       r_hat  \n",
       "mu       1.0  \n",
       "sigma    1.0  "
      ]
     },
     "execution_count": 4,
     "metadata": {},
     "output_type": "execute_result"
    }
   ],
   "source": [
    "az.summary(trace)"
   ]
  },
  {
   "cell_type": "markdown",
   "id": "a7091d79",
   "metadata": {},
   "source": [
    "The \"true\" value for $\\mu$ is 33.0. What is the 95% confidence interval?"
   ]
  },
  {
   "cell_type": "code",
   "execution_count": 5,
   "id": "c7736011",
   "metadata": {},
   "outputs": [
    {
     "data": {
      "text/plain": [
       "array([23.47406252, 25.90495002])"
      ]
     },
     "execution_count": 5,
     "metadata": {},
     "output_type": "execute_result"
    }
   ],
   "source": [
    "np.percentile(\n",
    "    trace.posterior[\"mu\"].mean(\"chain\"),\n",
    "    [2.5, 97.5],\n",
    ")"
   ]
  },
  {
   "cell_type": "code",
   "execution_count": 6,
   "id": "bf5476c0",
   "metadata": {},
   "outputs": [
    {
     "data": {
      "image/png": "[encoded data removed]",
      "text/plain": [
       "<Figure size 640x480 with 1 Axes>"
      ]
     },
     "metadata": {},
     "output_type": "display_data"
    }
   ],
   "source": [
    "plt.hist(\n",
    "    posterior.posterior_predictive[\"speed\"].mean((\"chain\", \"speed_dim_0\")),\n",
    "    density=True,\n",
    "    label=\"Posterior distribution of light\",\n",
    ")\n",
    "\n",
    "plt.axvline(33.0, linestyle=\"--\", color=\"red\", label='\"True\" value')\n",
    "plt.hist(data[\"speed\"], density=True, label=\"Empirical data\")\n",
    "plt.legend()\n",
    "plt.show()"
   ]
  },
  {
   "cell_type": "code",
   "execution_count": null,
   "id": "d803fb0b",
   "metadata": {},
   "outputs": [],
   "source": []
  }
 ],
 "metadata": {
  "kernelspec": {
   "display_name": ".venv",
   "language": "python",
   "name": "python3"
  },
  "language_info": {
   "codemirror_mode": {
    "name": "ipython",
    "version": 3
   },
   "file_extension": ".py",
   "mimetype": "text/x-python",
   "name": "python",
   "nbconvert_exporter": "python",
   "pygments_lexer": "ipython3",
   "version": "3.12.7"
  }
 },
 "nbformat": 4,
 "nbformat_minor": 5
}
