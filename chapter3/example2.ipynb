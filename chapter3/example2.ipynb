{
 "cells": [
  {
   "cell_type": "markdown",
   "id": "ba397bb6",
   "metadata": {},
   "source": [
    "# Pre-election Polling"
   ]
  },
  {
   "cell_type": "code",
   "execution_count": 1,
   "id": "fbf32e86",
   "metadata": {},
   "outputs": [],
   "source": [
    "from loguru import logger\n",
    "import pymc as pm\n",
    "import arviz as az\n",
    "import matplotlib.pyplot as plt"
   ]
  },
  {
   "cell_type": "code",
   "execution_count": 2,
   "id": "387fd4e9",
   "metadata": {},
   "outputs": [],
   "source": [
    "total_sample = 1447\n",
    "bush = 727\n",
    "dukakis = 583\n",
    "others = 137"
   ]
  },
  {
   "cell_type": "code",
   "execution_count": 5,
   "id": "e329b684",
   "metadata": {},
   "outputs": [
    {
     "name": "stderr",
     "output_type": "stream",
     "text": [
      "Initializing NUTS using jitter+adapt_diag...\n",
      "Multiprocess sampling (4 chains in 4 jobs)\n",
      "NUTS: [alphas, proportions]\n"
     ]
    },
    {
     "data": {
      "application/vnd.jupyter.widget-view+json": {
       "model_id": "68abf2658c8141849794a0da83131ce5",
       "version_major": 2,
       "version_minor": 0
      },
      "text/plain": [
       "Output()"
      ]
     },
     "metadata": {},
     "output_type": "display_data"
    },
    {
     "data": {
      "text/html": [
       "<pre style=\"white-space:pre;overflow-x:auto;line-height:normal;font-family:Menlo,'DejaVu Sans Mono',consolas,'Courier New',monospace\"></pre>\n"
      ],
      "text/plain": []
     },
     "metadata": {},
     "output_type": "display_data"
    },
    {
     "name": "stderr",
     "output_type": "stream",
     "text": [
      "Sampling 4 chains for 1_000 tune and 2_000 draw iterations (4_000 + 8_000 draws total) took 4 seconds.\n"
     ]
    }
   ],
   "source": [
    "coords = {\"candidates\": [\"Bush\", \"Dukakis\", \"Others\"]}\n",
    "\n",
    "with pm.Model(coords=coords) as m:\n",
    "    alphas = pm.Uniform(\"alphas\", lower=0, upper=1, dims=\"candidates\")\n",
    "    proportions = pm.Dirichlet(\"proportions\", a=alphas, dims=\"candidates\")\n",
    "    diff_in_props = pm.Deterministic(\"diff\", proportions[0] - proportions[1])\n",
    "\n",
    "    votes = pm.Multinomial(\n",
    "        \"votes\",\n",
    "        n=total_sample,\n",
    "        p=proportions,\n",
    "        observed=[bush, dukakis, others],\n",
    "    )\n",
    "\n",
    "    trace = pm.sample(2000, tune=1000)"
   ]
  },
  {
   "cell_type": "code",
   "execution_count": null,
   "id": "c1331a72",
   "metadata": {},
   "outputs": [
    {
     "data": {
      "text/html": [
       "<div>\n",
       "<style scoped>\n",
       "    .dataframe tbody tr th:only-of-type {\n",
       "        vertical-align: middle;\n",
       "    }\n",
       "\n",
       "    .dataframe tbody tr th {\n",
       "        vertical-align: top;\n",
       "    }\n",
       "\n",
       "    .dataframe thead th {\n",
       "        text-align: right;\n",
       "    }\n",
       "</style>\n",
       "<table border=\"1\" class=\"dataframe\">\n",
       "  <thead>\n",
       "    <tr style=\"text-align: right;\">\n",
       "      <th></th>\n",
       "      <th>mean</th>\n",
       "      <th>sd</th>\n",
       "      <th>hdi_3%</th>\n",
       "      <th>hdi_97%</th>\n",
       "      <th>mcse_mean</th>\n",
       "      <th>mcse_sd</th>\n",
       "      <th>ess_bulk</th>\n",
       "      <th>ess_tail</th>\n",
       "      <th>r_hat</th>\n",
       "    </tr>\n",
       "  </thead>\n",
       "  <tbody>\n",
       "    <tr>\n",
       "      <th>proportions[Bush]</th>\n",
       "      <td>0.503</td>\n",
       "      <td>0.013</td>\n",
       "      <td>0.478</td>\n",
       "      <td>0.528</td>\n",
       "      <td>0.0</td>\n",
       "      <td>0.0</td>\n",
       "      <td>10845.0</td>\n",
       "      <td>6442.0</td>\n",
       "      <td>1.0</td>\n",
       "    </tr>\n",
       "    <tr>\n",
       "      <th>proportions[Dukakis]</th>\n",
       "      <td>0.403</td>\n",
       "      <td>0.013</td>\n",
       "      <td>0.378</td>\n",
       "      <td>0.427</td>\n",
       "      <td>0.0</td>\n",
       "      <td>0.0</td>\n",
       "      <td>10225.0</td>\n",
       "      <td>6303.0</td>\n",
       "      <td>1.0</td>\n",
       "    </tr>\n",
       "    <tr>\n",
       "      <th>proportions[Others]</th>\n",
       "      <td>0.095</td>\n",
       "      <td>0.008</td>\n",
       "      <td>0.081</td>\n",
       "      <td>0.109</td>\n",
       "      <td>0.0</td>\n",
       "      <td>0.0</td>\n",
       "      <td>9947.0</td>\n",
       "      <td>6715.0</td>\n",
       "      <td>1.0</td>\n",
       "    </tr>\n",
       "    <tr>\n",
       "      <th>diff</th>\n",
       "      <td>0.100</td>\n",
       "      <td>0.025</td>\n",
       "      <td>0.051</td>\n",
       "      <td>0.147</td>\n",
       "      <td>0.0</td>\n",
       "      <td>0.0</td>\n",
       "      <td>10573.0</td>\n",
       "      <td>6547.0</td>\n",
       "      <td>1.0</td>\n",
       "    </tr>\n",
       "  </tbody>\n",
       "</table>\n",
       "</div>"
      ],
      "text/plain": [
       "                       mean     sd  hdi_3%  hdi_97%  mcse_mean  mcse_sd  \\\n",
       "proportions[Bush]     0.503  0.013   0.478    0.528        0.0      0.0   \n",
       "proportions[Dukakis]  0.403  0.013   0.378    0.427        0.0      0.0   \n",
       "proportions[Others]   0.095  0.008   0.081    0.109        0.0      0.0   \n",
       "diff                  0.100  0.025   0.051    0.147        0.0      0.0   \n",
       "\n",
       "                      ess_bulk  ess_tail  r_hat  \n",
       "proportions[Bush]      10845.0    6442.0    1.0  \n",
       "proportions[Dukakis]   10225.0    6303.0    1.0  \n",
       "proportions[Others]     9947.0    6715.0    1.0  \n",
       "diff                   10573.0    6547.0    1.0  "
      ]
     },
     "execution_count": 6,
     "metadata": {},
     "output_type": "execute_result"
    }
   ],
   "source": [
    "az.summary(trace, var_names=[\"proportions\", \"diff\"])"
   ]
  },
  {
   "cell_type": "code",
   "execution_count": null,
   "id": "c430efb3",
   "metadata": {},
   "outputs": [
    {
     "data": {
      "image/png": "[encoded data removed]",
      "text/plain": [
       "<Figure size 640x480 with 1 Axes>"
      ]
     },
     "metadata": {},
     "output_type": "display_data"
    }
   ],
   "source": [
    "plt.hist(trace.posterior[\"diff\"].mean(\"chain\"))\n",
    "plt.axvline(0, linestyle=\"--\", color=\"black\")\n",
    "plt.show()"
   ]
  },
  {
   "cell_type": "code",
   "execution_count": null,
   "id": "42d19e74",
   "metadata": {},
   "outputs": [],
   "source": []
  }
 ],
 "metadata": {
  "kernelspec": {
   "display_name": ".venv",
   "language": "python",
   "name": "python3"
  },
  "language_info": {
   "codemirror_mode": {
    "name": "ipython",
    "version": 3
   },
   "file_extension": ".py",
   "mimetype": "text/x-python",
   "name": "python",
   "nbconvert_exporter": "python",
   "pygments_lexer": "ipython3",
   "version": "3.12.7"
  }
 },
 "nbformat": 4,
 "nbformat_minor": 5
}
