{
 "cells": [
  {
   "cell_type": "markdown",
   "id": "59f5a8a4",
   "metadata": {},
   "source": [
    "# Rat tumors - hierarchical modeling"
   ]
  },
  {
   "cell_type": "code",
   "execution_count": 1,
   "id": "d2dd3250",
   "metadata": {},
   "outputs": [],
   "source": [
    "import pymc as pm"
   ]
  },
  {
   "cell_type": "code",
   "execution_count": 2,
   "id": "1ba7ca42",
   "metadata": {},
   "outputs": [],
   "source": [
    "samples = [\n",
    "    20,\n",
    "    20,\n",
    "    20,\n",
    "    20,\n",
    "    20,\n",
    "    20,\n",
    "    20,\n",
    "    19,\n",
    "    19,\n",
    "    19,\n",
    "    19,\n",
    "    18,\n",
    "    18,\n",
    "    17,\n",
    "    20,\n",
    "    20,\n",
    "    20,\n",
    "    20,\n",
    "    19,\n",
    "    19,\n",
    "    18,\n",
    "    18,\n",
    "    25,\n",
    "    24,\n",
    "    23,\n",
    "    20,\n",
    "    20,\n",
    "    20,\n",
    "    20,\n",
    "    20,\n",
    "    20,\n",
    "    10,\n",
    "    49,\n",
    "    19,\n",
    "    46,\n",
    "    27,\n",
    "    17,\n",
    "    49,\n",
    "    47,\n",
    "    20,\n",
    "    20,\n",
    "    13,\n",
    "    48,\n",
    "    50,\n",
    "    20,\n",
    "    20,\n",
    "    20,\n",
    "    20,\n",
    "    20,\n",
    "    20,\n",
    "    20,\n",
    "    48,\n",
    "    19,\n",
    "    19,\n",
    "    19,\n",
    "    22,\n",
    "    46,\n",
    "    49,\n",
    "    20,\n",
    "    20,\n",
    "    23,\n",
    "    19,\n",
    "    22,\n",
    "    20,\n",
    "    20,\n",
    "    20,\n",
    "    52,\n",
    "    47,\n",
    "    46,\n",
    "    24,\n",
    "]\n",
    "\n",
    "counts = [\n",
    "    *[0 for _ in range(10)],\n",
    "    *[0 for _ in range(4)],\n",
    "    *[1 for _ in range(6)],\n",
    "    1,\n",
    "    1,\n",
    "    *[2 for _ in range(8)],\n",
    "    *[2, 1, 5, 2, 5, 3, 2, 7, 7, 3],\n",
    "    *[3, 2, 9, 10],\n",
    "    *[4 for _ in range(6)],\n",
    "    *[4, 10, 4, 4, 4, 5, 11, 12, 5, 5],\n",
    "    *[6, 5, 6, 6, 6, 6, 16, 15, 15, 9],\n",
    "]"
   ]
  },
  {
   "cell_type": "markdown",
   "id": "63e3e4cc",
   "metadata": {},
   "source": [
    "Model:\n",
    "$$\n",
    "\\begin{align}\n",
    "p(\\alpha, \\beta) & \\propto (\\alpha + \\beta)^{-5/2}\\\\\n",
    "\\theta_j & \\sim \\text{Beta}(\\alpha, \\beta)\\\\\n",
    "y_j & \\sim \\text{Binomial}(n_j, \\theta_j) \n",
    "\\end{align}\n",
    "$$\n",
    "- the hyperprior distribution comes from the fact that an uniform prior on:\n",
    "$$\n",
    "\\left( \\frac{\\alpha}{\\alpha \n",
    "+ \\beta}, (\\alpha + \\beta)^{-1/2} \\right)\n",
    "$$\n",
    "gives the above prior distribution when multiplied by the Jacobian"
   ]
  },
  {
   "cell_type": "code",
   "execution_count": 3,
   "id": "76c8fb21",
   "metadata": {},
   "outputs": [
    {
     "name": "stderr",
     "output_type": "stream",
     "text": [
      "Initializing NUTS using jitter+adapt_diag...\n",
      "Multiprocess sampling (4 chains in 4 jobs)\n",
      "NUTS: [u, v, theta]\n"
     ]
    },
    {
     "data": {
      "application/vnd.jupyter.widget-view+json": {
       "model_id": "d3153662e2b44aceae7a98d33d01d68b",
       "version_major": 2,
       "version_minor": 0
      },
      "text/plain": [
       "Output()"
      ]
     },
     "metadata": {},
     "output_type": "display_data"
    },
    {
     "data": {
      "text/html": [
       "<pre style=\"white-space:pre;overflow-x:auto;line-height:normal;font-family:Menlo,'DejaVu Sans Mono',consolas,'Courier New',monospace\"></pre>\n"
      ],
      "text/plain": []
     },
     "metadata": {},
     "output_type": "display_data"
    },
    {
     "name": "stderr",
     "output_type": "stream",
     "text": [
      "Sampling 4 chains for 1_000 tune and 2_000 draw iterations (4_000 + 8_000 draws total) took 4 seconds.\n"
     ]
    }
   ],
   "source": [
    "coords = {\"experiment\": [f\"Experiment {i + 1}\" for i in range(len(samples))]}\n",
    "\n",
    "with pm.Model(coords=coords) as m:\n",
    "    u = pm.Uniform(\"u\", lower=0, upper=1)\n",
    "    v = pm.Uniform(\"v\", lower=0, upper=1)\n",
    "    # solved u = a / (a + b) and v = (a + b)^(-1/2) for a and b\n",
    "    alpha = pm.Deterministic(\"alpha\", u / (v**2))\n",
    "    beta = pm.Deterministic(\"beta\", (1 - u) / (v**2))\n",
    "    pm.Deterministic(\"log_ratio\", pm.math.log(alpha / beta))\n",
    "    pm.Deterministic(\"log_sum\", pm.math.log(alpha + beta))\n",
    "    thetas = pm.Beta(\"theta\", alpha=alpha, beta=beta, dims=\"experiment\")\n",
    "    pm.Binomial(\"tumors\", n=samples, p=thetas, observed=counts, dims=\"experiment\")\n",
    "\n",
    "    trace = pm.sample(2000, tune=1000)"
   ]
  }
 ],
 "metadata": {
  "kernelspec": {
   "display_name": ".venv",
   "language": "python",
   "name": "python3"
  },
  "language_info": {
   "codemirror_mode": {
    "name": "ipython",
    "version": 3
   },
   "file_extension": ".py",
   "mimetype": "text/x-python",
   "name": "python",
   "nbconvert_exporter": "python",
   "pygments_lexer": "ipython3",
   "version": "3.12.7"
  }
 },
 "nbformat": 4,
 "nbformat_minor": 5
}
