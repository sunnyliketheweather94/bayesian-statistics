{
 "cells": [
  {
   "cell_type": "markdown",
   "id": "4900df31",
   "metadata": {},
   "source": [
    "# Parallel experiments in 8 schools"
   ]
  },
  {
   "cell_type": "code",
   "execution_count": null,
   "id": "9b401d16",
   "metadata": {},
   "outputs": [],
   "source": [
    "import pymc as pm\n",
    "import arviz as az\n",
    "import numpy as np\n",
    "import matplotlib.pyplot as plt\n",
    "import scipy.stats as ss"
   ]
  },
  {
   "cell_type": "code",
   "execution_count": 2,
   "id": "fa76f2a7",
   "metadata": {},
   "outputs": [],
   "source": [
    "schools = [\"A\", \"B\", \"C\", \"D\", \"E\", \"F\", \"G\", \"H\"]\n",
    "treatment = [28, 8, -3, 7, -1, 1, 18, 12]\n",
    "sde = [15, 10, 16, 11, 9, 11, 10, 18]"
   ]
  },
  {
   "cell_type": "markdown",
   "id": "4cdddc8b",
   "metadata": {},
   "source": [
    "Model:\n",
    "$$\n",
    "\\begin{align}\n",
    "p(\\tau) & \\sim \\chi^{-2}(\\nu_0, \\tau_0^2) \\\\\n",
    "p(\\mu | \\tau) & \\sim \\text{N}(\\mu_o, \\tau^2 / \\kappa_0) \\\\\n",
    "p(\\theta_s | \\mu, \\tau) & \\sim \\text{N}(\\mu, \\tau^2) \\\\ \n",
    "p(y_s | \\theta_s) & \\sim \\text{N}(\\theta_s, \\sigma_s^2 )\n",
    "\\end{align}\n",
    "$$"
   ]
  },
  {
   "cell_type": "code",
   "execution_count": 16,
   "id": "d9e94dc2",
   "metadata": {},
   "outputs": [
    {
     "name": "stderr",
     "output_type": "stream",
     "text": [
      "Initializing NUTS using jitter+adapt_diag...\n",
      "Multiprocess sampling (4 chains in 4 jobs)\n",
      "NUTS: [tau, mu, theta]\n"
     ]
    },
    {
     "data": {
      "application/vnd.jupyter.widget-view+json": {
       "model_id": "538aeddd91fe4924ac6f8defa3e5473a",
       "version_major": 2,
       "version_minor": 0
      },
      "text/plain": [
       "Output()"
      ]
     },
     "metadata": {},
     "output_type": "display_data"
    },
    {
     "data": {
      "text/html": [
       "<pre style=\"white-space:pre;overflow-x:auto;line-height:normal;font-family:Menlo,'DejaVu Sans Mono',consolas,'Courier New',monospace\"></pre>\n"
      ],
      "text/plain": []
     },
     "metadata": {},
     "output_type": "display_data"
    },
    {
     "name": "stderr",
     "output_type": "stream",
     "text": [
      "Sampling 4 chains for 1_000 tune and 2_000 draw iterations (4_000 + 8_000 draws total) took 2 seconds.\n"
     ]
    }
   ],
   "source": [
    "coords = {\"schools\": schools}\n",
    "\n",
    "with pm.Model(coords=coords) as m:\n",
    "    tau = pm.HalfNormal(\"tau\", sigma=10.0)\n",
    "    mu = pm.Normal(\"mu\", mu=0, sigma=3.0)\n",
    "    thetas = pm.Normal(\"theta\", mu=mu, tau=tau, dims=\"schools\")\n",
    "    pm.Normal(\"scores\", mu=thetas, tau=sde, observed=treatment, dims=\"schools\")\n",
    "\n",
    "    trace = pm.sample(2000, tune=1000)"
   ]
  },
  {
   "cell_type": "code",
   "execution_count": 17,
   "id": "49feaaba",
   "metadata": {},
   "outputs": [
    {
     "data": {
      "text/html": [
       "<div>\n",
       "<style scoped>\n",
       "    .dataframe tbody tr th:only-of-type {\n",
       "        vertical-align: middle;\n",
       "    }\n",
       "\n",
       "    .dataframe tbody tr th {\n",
       "        vertical-align: top;\n",
       "    }\n",
       "\n",
       "    .dataframe thead th {\n",
       "        text-align: right;\n",
       "    }\n",
       "</style>\n",
       "<table border=\"1\" class=\"dataframe\">\n",
       "  <thead>\n",
       "    <tr style=\"text-align: right;\">\n",
       "      <th></th>\n",
       "      <th>mean</th>\n",
       "      <th>sd</th>\n",
       "      <th>hdi_3%</th>\n",
       "      <th>hdi_97%</th>\n",
       "      <th>mcse_mean</th>\n",
       "      <th>mcse_sd</th>\n",
       "      <th>ess_bulk</th>\n",
       "      <th>ess_tail</th>\n",
       "      <th>r_hat</th>\n",
       "    </tr>\n",
       "  </thead>\n",
       "  <tbody>\n",
       "    <tr>\n",
       "      <th>theta[A]</th>\n",
       "      <td>27.984</td>\n",
       "      <td>0.256</td>\n",
       "      <td>27.514</td>\n",
       "      <td>28.468</td>\n",
       "      <td>0.002</td>\n",
       "      <td>0.003</td>\n",
       "      <td>11472.0</td>\n",
       "      <td>6167.0</td>\n",
       "      <td>1.0</td>\n",
       "    </tr>\n",
       "    <tr>\n",
       "      <th>theta[B]</th>\n",
       "      <td>7.994</td>\n",
       "      <td>0.311</td>\n",
       "      <td>7.417</td>\n",
       "      <td>8.565</td>\n",
       "      <td>0.003</td>\n",
       "      <td>0.004</td>\n",
       "      <td>13359.0</td>\n",
       "      <td>5953.0</td>\n",
       "      <td>1.0</td>\n",
       "    </tr>\n",
       "    <tr>\n",
       "      <th>theta[C]</th>\n",
       "      <td>-2.992</td>\n",
       "      <td>0.249</td>\n",
       "      <td>-3.450</td>\n",
       "      <td>-2.520</td>\n",
       "      <td>0.002</td>\n",
       "      <td>0.003</td>\n",
       "      <td>11910.0</td>\n",
       "      <td>6048.0</td>\n",
       "      <td>1.0</td>\n",
       "    </tr>\n",
       "    <tr>\n",
       "      <th>theta[D]</th>\n",
       "      <td>6.996</td>\n",
       "      <td>0.292</td>\n",
       "      <td>6.432</td>\n",
       "      <td>7.528</td>\n",
       "      <td>0.003</td>\n",
       "      <td>0.003</td>\n",
       "      <td>12234.0</td>\n",
       "      <td>5860.0</td>\n",
       "      <td>1.0</td>\n",
       "    </tr>\n",
       "    <tr>\n",
       "      <th>theta[E]</th>\n",
       "      <td>-0.997</td>\n",
       "      <td>0.323</td>\n",
       "      <td>-1.599</td>\n",
       "      <td>-0.387</td>\n",
       "      <td>0.003</td>\n",
       "      <td>0.004</td>\n",
       "      <td>12560.0</td>\n",
       "      <td>6578.0</td>\n",
       "      <td>1.0</td>\n",
       "    </tr>\n",
       "    <tr>\n",
       "      <th>theta[F]</th>\n",
       "      <td>1.003</td>\n",
       "      <td>0.298</td>\n",
       "      <td>0.454</td>\n",
       "      <td>1.567</td>\n",
       "      <td>0.003</td>\n",
       "      <td>0.004</td>\n",
       "      <td>11661.0</td>\n",
       "      <td>6278.0</td>\n",
       "      <td>1.0</td>\n",
       "    </tr>\n",
       "    <tr>\n",
       "      <th>theta[G]</th>\n",
       "      <td>17.985</td>\n",
       "      <td>0.313</td>\n",
       "      <td>17.424</td>\n",
       "      <td>18.585</td>\n",
       "      <td>0.003</td>\n",
       "      <td>0.004</td>\n",
       "      <td>12240.0</td>\n",
       "      <td>6096.0</td>\n",
       "      <td>1.0</td>\n",
       "    </tr>\n",
       "    <tr>\n",
       "      <th>theta[H]</th>\n",
       "      <td>11.998</td>\n",
       "      <td>0.234</td>\n",
       "      <td>11.583</td>\n",
       "      <td>12.452</td>\n",
       "      <td>0.002</td>\n",
       "      <td>0.003</td>\n",
       "      <td>10635.0</td>\n",
       "      <td>5801.0</td>\n",
       "      <td>1.0</td>\n",
       "    </tr>\n",
       "  </tbody>\n",
       "</table>\n",
       "</div>"
      ],
      "text/plain": [
       "            mean     sd  hdi_3%  hdi_97%  mcse_mean  mcse_sd  ess_bulk  \\\n",
       "theta[A]  27.984  0.256  27.514   28.468      0.002    0.003   11472.0   \n",
       "theta[B]   7.994  0.311   7.417    8.565      0.003    0.004   13359.0   \n",
       "theta[C]  -2.992  0.249  -3.450   -2.520      0.002    0.003   11910.0   \n",
       "theta[D]   6.996  0.292   6.432    7.528      0.003    0.003   12234.0   \n",
       "theta[E]  -0.997  0.323  -1.599   -0.387      0.003    0.004   12560.0   \n",
       "theta[F]   1.003  0.298   0.454    1.567      0.003    0.004   11661.0   \n",
       "theta[G]  17.985  0.313  17.424   18.585      0.003    0.004   12240.0   \n",
       "theta[H]  11.998  0.234  11.583   12.452      0.002    0.003   10635.0   \n",
       "\n",
       "          ess_tail  r_hat  \n",
       "theta[A]    6167.0    1.0  \n",
       "theta[B]    5953.0    1.0  \n",
       "theta[C]    6048.0    1.0  \n",
       "theta[D]    5860.0    1.0  \n",
       "theta[E]    6578.0    1.0  \n",
       "theta[F]    6278.0    1.0  \n",
       "theta[G]    6096.0    1.0  \n",
       "theta[H]    5801.0    1.0  "
      ]
     },
     "execution_count": 17,
     "metadata": {},
     "output_type": "execute_result"
    }
   ],
   "source": [
    "az.summary(trace, var_names=\"theta\")"
   ]
  },
  {
   "cell_type": "code",
   "execution_count": 18,
   "id": "2ea532f7",
   "metadata": {},
   "outputs": [
    {
     "data": {
      "image/png": "[encoded data removed]",
      "text/plain": [
       "<Figure size 640x480 with 1 Axes>"
      ]
     },
     "metadata": {},
     "output_type": "display_data"
    }
   ],
   "source": [
    "plt.hist(trace.posterior[\"tau\"].mean(\"chain\"))\n",
    "plt.show()"
   ]
  },
  {
   "cell_type": "code",
   "execution_count": null,
   "id": "947e17c3",
   "metadata": {},
   "outputs": [],
   "source": []
  }
 ],
 "metadata": {
  "kernelspec": {
   "display_name": ".venv",
   "language": "python",
   "name": "python3"
  },
  "language_info": {
   "codemirror_mode": {
    "name": "ipython",
    "version": 3
   },
   "file_extension": ".py",
   "mimetype": "text/x-python",
   "name": "python",
   "nbconvert_exporter": "python",
   "pygments_lexer": "ipython3",
   "version": "3.12.7"
  }
 },
 "nbformat": 4,
 "nbformat_minor": 5
}
