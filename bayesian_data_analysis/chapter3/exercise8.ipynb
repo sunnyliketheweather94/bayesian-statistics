{
 "cells": [
  {
   "cell_type": "markdown",
   "id": "9ff6724d",
   "metadata": {},
   "source": [
    "# Analysis of proportions"
   ]
  },
  {
   "cell_type": "code",
   "execution_count": 1,
   "id": "e79379fe",
   "metadata": {},
   "outputs": [],
   "source": [
    "import pymc as pm\n",
    "import arviz as az\n",
    "import matplotlib.pyplot as plt"
   ]
  },
  {
   "cell_type": "code",
   "execution_count": 2,
   "id": "f43d6e1c",
   "metadata": {},
   "outputs": [],
   "source": [
    "yes_cycles = [16, 9, 10, 13, 19, 20, 18, 17, 35, 55]\n",
    "yes_others = [58, 90, 48, 57, 103, 57, 86, 112, 273, 64]\n",
    "yes_total = [a + b for a, b in zip(yes_cycles, yes_others)]\n",
    "yes_props = [a / b for a, b in zip(yes_cycles, yes_total)]\n",
    "\n",
    "no_cycles = [12, 1, 2, 4, 9, 7, 9, 8]\n",
    "no_others = [113, 18, 14, 44, 208, 67, 29, 154]\n",
    "no_total = [a + b for a, b in zip(no_cycles, no_others)]\n",
    "no_props = [a / b for a, b in zip(no_cycles, no_total)]"
   ]
  },
  {
   "cell_type": "markdown",
   "id": "c4db4c62",
   "metadata": {},
   "source": [
    "Assumptions:\n",
    "- $y_1, ..., y_{10}$ are the proportions of traffic on bicycles in the residential streets with bike lanes\n",
    "- $z_1, ..., z_8$ are the proportions of traffic on bicycles in the residential streets without bike lanes \n",
    "- $y_i$'s are IID, given $\\theta_y$\n",
    "- $z_i$'s are IID, given $\\theta_z$\n",
    "\n",
    "Model:\n",
    "$$\n",
    "\\begin{align}\n",
    "\\alpha, \\beta & \\sim \\text{HalfNormal}(2.0) \\\\ \n",
    "\\theta_y, \\theta_z & \\sim \\text{Beta}(\\alpha, \\beta) \\\\\n",
    "y_i | \\theta_y & \\sim \\text{Binomial}(n_{y_i}, \\theta_y) \\\\ \n",
    "z_i | \\theta_z & \\sim \\text{Binomial}(n_{z_i}, \\theta_z) \n",
    "\\end{align}\n",
    "$$"
   ]
  },
  {
   "cell_type": "code",
   "execution_count": 3,
   "id": "52364150",
   "metadata": {},
   "outputs": [
    {
     "name": "stderr",
     "output_type": "stream",
     "text": [
      "Initializing NUTS using jitter+adapt_diag...\n",
      "Multiprocess sampling (4 chains in 4 jobs)\n",
      "NUTS: [alpha, beta, theta]\n"
     ]
    },
    {
     "data": {
      "application/vnd.jupyter.widget-view+json": {
       "model_id": "8d0b4d00ec984aaa8c421c08ba267866",
       "version_major": 2,
       "version_minor": 0
      },
      "text/plain": [
       "Output()"
      ]
     },
     "metadata": {},
     "output_type": "display_data"
    },
    {
     "data": {
      "text/html": [
       "<pre style=\"white-space:pre;overflow-x:auto;line-height:normal;font-family:Menlo,'DejaVu Sans Mono',consolas,'Courier New',monospace\"></pre>\n"
      ],
      "text/plain": []
     },
     "metadata": {},
     "output_type": "display_data"
    },
    {
     "name": "stderr",
     "output_type": "stream",
     "text": [
      "Sampling 4 chains for 1_000 tune and 2_000 draw iterations (4_000 + 8_000 draws total) took 3 seconds.\n"
     ]
    }
   ],
   "source": [
    "coords = {\"bike_route\": [\"Yes\", \"No\"]}\n",
    "\n",
    "with pm.Model(coords=coords) as m:\n",
    "    alpha = pm.HalfNormal(\"alpha\", sigma=2.0)\n",
    "    beta = pm.HalfNormal(\"beta\", sigma=0.2)\n",
    "    thetas = pm.Beta(\"theta\", alpha=alpha, beta=beta, dims=\"bike_route\")\n",
    "    diff = pm.Deterministic(\"diff\", thetas[0] - thetas[1])\n",
    "\n",
    "    yes_counts = pm.Binomial(\n",
    "        \"yes_counts\",\n",
    "        n=yes_total,\n",
    "        p=thetas[0],\n",
    "        observed=yes_cycles,\n",
    "    )\n",
    "\n",
    "    no_counts = pm.Binomial(\n",
    "        \"no_counts\",\n",
    "        n=no_total,\n",
    "        p=thetas[1],\n",
    "        observed=no_cycles,\n",
    "    )\n",
    "\n",
    "    trace = pm.sample(2000, tune=1000)"
   ]
  },
  {
   "cell_type": "code",
   "execution_count": 4,
   "id": "8ece1c45",
   "metadata": {},
   "outputs": [
    {
     "data": {
      "image/png": "[encoded data removed]",
      "text/plain": [
       "<Figure size 640x480 with 1 Axes>"
      ]
     },
     "metadata": {},
     "output_type": "display_data"
    }
   ],
   "source": [
    "plt.hist(trace.posterior[\"diff\"].mean(\"chain\"))\n",
    "plt.title(\n",
    "    \"Difference in proportions of bicycle traffic\\n\"\n",
    "    \"on residential streets with/without bike lanes\"\n",
    ")\n",
    "plt.show()"
   ]
  },
  {
   "cell_type": "code",
   "execution_count": null,
   "id": "f0ffa21d",
   "metadata": {},
   "outputs": [],
   "source": []
  },
  {
   "cell_type": "code",
   "execution_count": null,
   "id": "1693fe4f",
   "metadata": {},
   "outputs": [],
   "source": []
  },
  {
   "cell_type": "code",
   "execution_count": null,
   "id": "17b47463",
   "metadata": {},
   "outputs": [],
   "source": []
  }
 ],
 "metadata": {
  "kernelspec": {
   "display_name": ".venv",
   "language": "python",
   "name": "python3"
  },
  "language_info": {
   "codemirror_mode": {
    "name": "ipython",
    "version": 3
   },
   "file_extension": ".py",
   "mimetype": "text/x-python",
   "name": "python",
   "nbconvert_exporter": "python",
   "pygments_lexer": "ipython3",
   "version": "3.12.7"
  }
 },
 "nbformat": 4,
 "nbformat_minor": 5
}
